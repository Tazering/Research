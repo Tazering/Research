{
  "nbformat": 4,
  "nbformat_minor": 0,
  "metadata": {
    "colab": {
      "provenance": []
    },
    "kernelspec": {
      "name": "python3",
      "display_name": "Python 3"
    },
    "language_info": {
      "name": "python"
    }
  },
  "cells": [
    {
      "cell_type": "markdown",
      "source": [
        "# ***Deep learning methods for obtaining photometric redshift estimations from images***"
      ],
      "metadata": {
        "id": "B013ImezAl-L"
      }
    },
    {
      "cell_type": "markdown",
      "source": [
        "## **Download the SDSS Dataset**"
      ],
      "metadata": {
        "id": "xbkcdm5JCG8Y"
      }
    },
    {
      "cell_type": "markdown",
      "source": [
        "## **Preprocessing**"
      ],
      "metadata": {
        "id": "t4_t40QzCMu1"
      }
    },
    {
      "cell_type": "markdown",
      "source": [
        "## **Test Models**"
      ],
      "metadata": {
        "id": "mgz3y7sdCSl9"
      }
    },
    {
      "cell_type": "markdown",
      "source": [
        "### **Random Forest**"
      ],
      "metadata": {
        "id": "SLOdlg1QAr7F"
      }
    },
    {
      "cell_type": "code",
      "source": [],
      "metadata": {
        "id": "ge7UATH7ArlU"
      },
      "execution_count": null,
      "outputs": []
    },
    {
      "cell_type": "code",
      "execution_count": null,
      "metadata": {
        "id": "-FJvigccAkgJ"
      },
      "outputs": [],
      "source": []
    }
  ]
}